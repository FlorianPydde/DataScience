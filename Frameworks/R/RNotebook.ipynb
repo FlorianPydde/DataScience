{
 "cells": [
  {
   "cell_type": "markdown",
   "metadata": {},
   "source": [
    "# Using R with jupyter notebook"
   ]
  },
  {
   "cell_type": "markdown",
   "metadata": {},
   "source": [
    "## How to install R in anaconda"
   ]
  },
  {
   "cell_type": "markdown",
   "metadata": {},
   "source": [
    "Installing R is pretty straightforward. The required steps are the following:\n",
    "\n",
    "1. Open Anaconda prompt\n",
    "2. Create a new environmnent: conda create -n R (or however you wanna call it) anaconda (it will take a while) \n",
    "3. Activate your new environment: activate R\n",
    "4. Run jupyter in the R env: jupyter notebook\n",
    "                                                                                         \n",
    "Et voilà !"
   ]
  },
  {
   "cell_type": "markdown",
   "metadata": {},
   "source": [
    "## Running a little test script "
   ]
  },
  {
   "cell_type": "markdown",
   "metadata": {},
   "source": [
    "I took the explain from the r-bloggers website: https://www.r-bloggers.com/simple-regression-models-in-r/"
   ]
  },
  {
   "cell_type": "markdown",
   "metadata": {},
   "source": [
    "### Gathering the data"
   ]
  },
  {
   "cell_type": "code",
   "execution_count": 29,
   "metadata": {},
   "outputs": [],
   "source": [
    "# Loading the entire mtcars dataset\n",
    "data(mtcars)"
   ]
  },
  {
   "cell_type": "code",
   "execution_count": 30,
   "metadata": {},
   "outputs": [
    {
     "data": {
      "text/html": [
       "<table>\n",
       "<thead><tr><th></th><th scope=col>mpg</th><th scope=col>disp</th><th scope=col>hp</th><th scope=col>drat</th><th scope=col>wt</th></tr></thead>\n",
       "<tbody>\n",
       "\t<tr><th scope=row>Mazda RX4</th><td>21.0 </td><td>160  </td><td>110  </td><td>3.90 </td><td>2.620</td></tr>\n",
       "\t<tr><th scope=row>Mazda RX4 Wag</th><td>21.0 </td><td>160  </td><td>110  </td><td>3.90 </td><td>2.875</td></tr>\n",
       "\t<tr><th scope=row>Datsun 710</th><td>22.8 </td><td>108  </td><td> 93  </td><td>3.85 </td><td>2.320</td></tr>\n",
       "\t<tr><th scope=row>Hornet 4 Drive</th><td>21.4 </td><td>258  </td><td>110  </td><td>3.08 </td><td>3.215</td></tr>\n",
       "\t<tr><th scope=row>Hornet Sportabout</th><td>18.7 </td><td>360  </td><td>175  </td><td>3.15 </td><td>3.440</td></tr>\n",
       "\t<tr><th scope=row>Valiant</th><td>18.1 </td><td>225  </td><td>105  </td><td>2.76 </td><td>3.460</td></tr>\n",
       "</tbody>\n",
       "</table>\n"
      ],
      "text/latex": [
       "\\begin{tabular}{r|lllll}\n",
       "  & mpg & disp & hp & drat & wt\\\\\n",
       "\\hline\n",
       "\tMazda RX4 & 21.0  & 160   & 110   & 3.90  & 2.620\\\\\n",
       "\tMazda RX4 Wag & 21.0  & 160   & 110   & 3.90  & 2.875\\\\\n",
       "\tDatsun 710 & 22.8  & 108   &  93   & 3.85  & 2.320\\\\\n",
       "\tHornet 4 Drive & 21.4  & 258   & 110   & 3.08  & 3.215\\\\\n",
       "\tHornet Sportabout & 18.7  & 360   & 175   & 3.15  & 3.440\\\\\n",
       "\tValiant & 18.1  & 225   & 105   & 2.76  & 3.460\\\\\n",
       "\\end{tabular}\n"
      ],
      "text/markdown": [
       "\n",
       "| <!--/--> | mpg | disp | hp | drat | wt | \n",
       "|---|---|---|---|---|---|\n",
       "| Mazda RX4 | 21.0  | 160   | 110   | 3.90  | 2.620 | \n",
       "| Mazda RX4 Wag | 21.0  | 160   | 110   | 3.90  | 2.875 | \n",
       "| Datsun 710 | 22.8  | 108   |  93   | 3.85  | 2.320 | \n",
       "| Hornet 4 Drive | 21.4  | 258   | 110   | 3.08  | 3.215 | \n",
       "| Hornet Sportabout | 18.7  | 360   | 175   | 3.15  | 3.440 | \n",
       "| Valiant | 18.1  | 225   | 105   | 2.76  | 3.460 | \n",
       "\n",
       "\n"
      ],
      "text/plain": [
       "                  mpg  disp hp  drat wt   \n",
       "Mazda RX4         21.0 160  110 3.90 2.620\n",
       "Mazda RX4 Wag     21.0 160  110 3.90 2.875\n",
       "Datsun 710        22.8 108   93 3.85 2.320\n",
       "Hornet 4 Drive    21.4 258  110 3.08 3.215\n",
       "Hornet Sportabout 18.7 360  175 3.15 3.440\n",
       "Valiant           18.1 225  105 2.76 3.460"
      ]
     },
     "metadata": {},
     "output_type": "display_data"
    }
   ],
   "source": [
    "# Subsetting the dataset for our use\n",
    "dat <- subset(mtcars,select=c(mpg,disp,hp,drat,wt))\n",
    "head(dat)"
   ]
  },
  {
   "cell_type": "code",
   "execution_count": 31,
   "metadata": {
    "scrolled": true
   },
   "outputs": [
    {
     "data": {
      "image/png": "[encoded data removed]",
      "text/plain": [
       "plot without title"
      ]
     },
     "metadata": {},
     "output_type": "display_data"
    }
   ],
   "source": [
    "# Take a peek at the data plotting each feature against the other\n",
    "plot(dat)"
   ]
  },
  {
   "cell_type": "code",
   "execution_count": 32,
   "metadata": {},
   "outputs": [
    {
     "name": "stderr",
     "output_type": "stream",
     "text": [
      "The following objects are masked from dat (pos = 3):\n",
      "\n",
      "    disp, drat, hp, mpg, wt\n",
      "\n",
      "The following objects are masked from dat (pos = 4):\n",
      "\n",
      "    disp, drat, hp, mpg, wt\n",
      "\n",
      "The following objects are masked from dat (pos = 5):\n",
      "\n",
      "    disp, drat, hp, mpg, wt\n",
      "\n",
      "The following objects are masked from dat (pos = 6):\n",
      "\n",
      "    disp, drat, hp, mpg, wt\n",
      "\n"
     ]
    }
   ],
   "source": [
    "# Attach for rapid calls\n",
    "attach(dat)"
   ]
  },
  {
   "cell_type": "code",
   "execution_count": 38,
   "metadata": {},
   "outputs": [
    {
     "data": {
      "image/png": "[encoded data removed]",
      "text/plain": [
       "Plot with title \"Regression polynomials\""
      ]
     },
     "metadata": {},
     "output_type": "display_data"
    }
   ],
   "source": [
    "# Plot data to use\n",
    "plot(disp,wt,type='p',xlab='Disp',ylab='Wt',main='Regression polynomials')\n",
    "\n",
    "# Add a legend\n",
    "legend(\"topleft\",c(\"n=1\",\"n=2\",\"n=3\"), col=c(\"red\",\"green\",\"blue\"), lwd=3)"
   ]
  },
  {
   "cell_type": "code",
   "execution_count": null,
   "metadata": {},
   "outputs": [],
   "source": []
  },
  {
   "cell_type": "code",
   "execution_count": null,
   "metadata": {},
   "outputs": [],
   "source": []
  }
 ],
 "metadata": {
  "kernelspec": {
   "display_name": "R",
   "language": "R",
   "name": "ir"
  },
  "language_info": {
   "codemirror_mode": "r",
   "file_extension": ".r",
   "mimetype": "text/x-r-source",
   "name": "R",
   "pygments_lexer": "r",
   "version": "3.4.3"
  }
 },
 "nbformat": 4,
 "nbformat_minor": 2
}
