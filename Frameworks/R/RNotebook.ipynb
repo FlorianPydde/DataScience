{
 "cells": [
  {
   "cell_type": "markdown",
   "metadata": {},
   "source": [
    "# Using R with jupyter notebook"
   ]
  },
  {
   "cell_type": "markdown",
   "metadata": {},
   "source": [
    "## How to install R in anaconda"
   ]
  },
  {
   "cell_type": "markdown",
   "metadata": {},
   "source": [
    "Installing R is pretty straightforward. The required steps are the following:\n",
    "\n",
    "1. Open Anaconda prompt\n",
    "2. Create a new environmnent: conda create -n R (or however you wanna call it) anaconda (it will take a while) \n",
    "3. Activate your new environment: activate R\n",
    "4. Run jupyter in the R env: jupyter notebook\n",
    "                                                                                         \n",
    "Et voilà !"
   ]
  },
  {
   "cell_type": "markdown",
   "metadata": {},
   "source": [
    "## Running a little test script "
   ]
  },
  {
   "cell_type": "markdown",
   "metadata": {},
   "source": [
    "I took the explain from the r-bloggers website: https://www.r-bloggers.com/simple-regression-models-in-r/"
   ]
  },
  {
   "cell_type": "markdown",
   "metadata": {},
   "source": [
    "### Gathering the data"
   ]
  },
  {
   "cell_type": "code",
   "execution_count": 1,
   "metadata": {},
   "outputs": [],
   "source": [
    "# Loading the entire mtcars dataset\n",
    "data(mtcars)"
   ]
  },
  {
   "cell_type": "code",
   "execution_count": 2,
   "metadata": {},
   "outputs": [
    {
     "data": {
      "text/html": [
       "<table>\n",
       "<thead><tr><th></th><th scope=col>mpg</th><th scope=col>disp</th><th scope=col>hp</th><th scope=col>drat</th><th scope=col>wt</th></tr></thead>\n",
       "<tbody>\n",
       "\t<tr><th scope=row>Mazda RX4</th><td>21.0 </td><td>160  </td><td>110  </td><td>3.90 </td><td>2.620</td></tr>\n",
       "\t<tr><th scope=row>Mazda RX4 Wag</th><td>21.0 </td><td>160  </td><td>110  </td><td>3.90 </td><td>2.875</td></tr>\n",
       "\t<tr><th scope=row>Datsun 710</th><td>22.8 </td><td>108  </td><td> 93  </td><td>3.85 </td><td>2.320</td></tr>\n",
       "\t<tr><th scope=row>Hornet 4 Drive</th><td>21.4 </td><td>258  </td><td>110  </td><td>3.08 </td><td>3.215</td></tr>\n",
       "\t<tr><th scope=row>Hornet Sportabout</th><td>18.7 </td><td>360  </td><td>175  </td><td>3.15 </td><td>3.440</td></tr>\n",
       "\t<tr><th scope=row>Valiant</th><td>18.1 </td><td>225  </td><td>105  </td><td>2.76 </td><td>3.460</td></tr>\n",
       "</tbody>\n",
       "</table>\n"
      ],
      "text/latex": [
       "\\begin{tabular}{r|lllll}\n",
       "  & mpg & disp & hp & drat & wt\\\\\n",
       "\\hline\n",
       "\tMazda RX4 & 21.0  & 160   & 110   & 3.90  & 2.620\\\\\n",
       "\tMazda RX4 Wag & 21.0  & 160   & 110   & 3.90  & 2.875\\\\\n",
       "\tDatsun 710 & 22.8  & 108   &  93   & 3.85  & 2.320\\\\\n",
       "\tHornet 4 Drive & 21.4  & 258   & 110   & 3.08  & 3.215\\\\\n",
       "\tHornet Sportabout & 18.7  & 360   & 175   & 3.15  & 3.440\\\\\n",
       "\tValiant & 18.1  & 225   & 105   & 2.76  & 3.460\\\\\n",
       "\\end{tabular}\n"
      ],
      "text/markdown": [
       "\n",
       "| <!--/--> | mpg | disp | hp | drat | wt | \n",
       "|---|---|---|---|---|---|\n",
       "| Mazda RX4 | 21.0  | 160   | 110   | 3.90  | 2.620 | \n",
       "| Mazda RX4 Wag | 21.0  | 160   | 110   | 3.90  | 2.875 | \n",
       "| Datsun 710 | 22.8  | 108   |  93   | 3.85  | 2.320 | \n",
       "| Hornet 4 Drive | 21.4  | 258   | 110   | 3.08  | 3.215 | \n",
       "| Hornet Sportabout | 18.7  | 360   | 175   | 3.15  | 3.440 | \n",
       "| Valiant | 18.1  | 225   | 105   | 2.76  | 3.460 | \n",
       "\n",
       "\n"
      ],
      "text/plain": [
       "                  mpg  disp hp  drat wt   \n",
       "Mazda RX4         21.0 160  110 3.90 2.620\n",
       "Mazda RX4 Wag     21.0 160  110 3.90 2.875\n",
       "Datsun 710        22.8 108   93 3.85 2.320\n",
       "Hornet 4 Drive    21.4 258  110 3.08 3.215\n",
       "Hornet Sportabout 18.7 360  175 3.15 3.440\n",
       "Valiant           18.1 225  105 2.76 3.460"
      ]
     },
     "metadata": {},
     "output_type": "display_data"
    }
   ],
   "source": [
    "# Subsetting the dataset for our use\n",
    "dat <- subset(mtcars,select=c(mpg,disp,hp,drat,wt))\n",
    "head(dat)"
   ]
  },
  {
   "cell_type": "code",
   "execution_count": 3,
   "metadata": {
    "scrolled": true
   },
   "outputs": [
    {
     "data": {
      "image/png": "[encoded data removed]",
      "text/plain": [
       "plot without title"
      ]
     },
     "metadata": {},
     "output_type": "display_data"
    }
   ],
   "source": [
    "# Take a peek at the data plotting each feature against the other\n",
    "plot(dat)"
   ]
  },
  {
   "cell_type": "code",
   "execution_count": 4,
   "metadata": {},
   "outputs": [],
   "source": [
    "# Attach for rapid calls\n",
    "attach(dat)"
   ]
  },
  {
   "cell_type": "code",
   "execution_count": 23,
   "metadata": {},
   "outputs": [
    {
     "data": {
      "image/png": "[encoded data removed]",
      "text/plain": [
       "Plot with title \"Regression polynomials\""
      ]
     },
     "metadata": {},
     "output_type": "display_data"
    }
   ],
   "source": [
    "# Plot data to use\n",
    "plot(disp,wt,type='p',xlab='Disp',ylab='Wt',main='Regression polynomials')\n",
    "\n",
    "# Add a legend\n",
    "legend(\"topleft\",c(\"n=1\",\"n=2\",\"n=3\"), col=c(\"red\",\"green\",\"blue\"), lwd=3)"
   ]
  },
  {
   "cell_type": "markdown",
   "metadata": {},
   "source": [
    "### Linear regression  y = a + bx  "
   ]
  },
  {
   "cell_type": "code",
   "execution_count": 14,
   "metadata": {},
   "outputs": [],
   "source": [
    "# Fit the model\n",
    "model1 <- lm(wt ~ disp)"
   ]
  },
  {
   "cell_type": "code",
   "execution_count": 15,
   "metadata": {},
   "outputs": [
    {
     "data": {
      "text/plain": [
       "\n",
       "Call:\n",
       "lm(formula = wt ~ disp)\n",
       "\n",
       "Coefficients:\n",
       "(Intercept)         disp  \n",
       "    1.59981      0.00701  \n"
      ]
     },
     "metadata": {},
     "output_type": "display_data"
    },
    {
     "data": {
      "text/html": [
       "<dl class=dl-horizontal>\n",
       "\t<dt>(Intercept)</dt>\n",
       "\t\t<dd>1.59981459693593</dd>\n",
       "\t<dt>disp</dt>\n",
       "\t\t<dd>0.0070103253237868</dd>\n",
       "</dl>\n"
      ],
      "text/latex": [
       "\\begin{description*}\n",
       "\\item[(Intercept)] 1.59981459693593\n",
       "\\item[disp] 0.0070103253237868\n",
       "\\end{description*}\n"
      ],
      "text/markdown": [
       "(Intercept)\n",
       ":   1.59981459693593disp\n",
       ":   0.0070103253237868\n",
       "\n"
      ],
      "text/plain": [
       "(Intercept)        disp \n",
       "1.599814597 0.007010325 "
      ]
     },
     "metadata": {},
     "output_type": "display_data"
    },
    {
     "data": {
      "text/plain": [
       "\n",
       "Call:\n",
       "lm(formula = wt ~ disp)\n",
       "\n",
       "Residuals:\n",
       "     Min       1Q   Median       3Q      Max \n",
       "-0.89044 -0.29775 -0.00684  0.33428  0.66525 \n",
       "\n",
       "Coefficients:\n",
       "             Estimate Std. Error t value Pr(>|t|)    \n",
       "(Intercept) 1.5998146  0.1729964   9.248 2.74e-10 ***\n",
       "disp        0.0070103  0.0006629  10.576 1.22e-11 ***\n",
       "---\n",
       "Signif. codes:  0 '***' 0.001 '**' 0.01 '*' 0.05 '.' 0.1 ' ' 1\n",
       "\n",
       "Residual standard error: 0.4574 on 30 degrees of freedom\n",
       "Multiple R-squared:  0.7885,\tAdjusted R-squared:  0.7815 \n",
       "F-statistic: 111.8 on 1 and 30 DF,  p-value: 1.222e-11\n"
      ]
     },
     "metadata": {},
     "output_type": "display_data"
    }
   ],
   "source": [
    "# Parameters and information about the model\n",
    "model1\n",
    "coef(model1)\n",
    "summary(model1)"
   ]
  },
  {
   "cell_type": "code",
   "execution_count": 21,
   "metadata": {},
   "outputs": [
    {
     "data": {
      "image/png": "[encoded data removed]",
      "text/plain": [
       "Plot with title \"Regression polynomials\""
      ]
     },
     "metadata": {},
     "output_type": "display_data"
    }
   ],
   "source": [
    "# Plot the model\n",
    "plot(disp,wt,type='p',xlab='Disp',ylab='Wt',main='Regression polynomials')\n",
    "legend(\"topleft\",c(\"n=1\",\"n=2\",\"n=3\"), col=c(\"red\",\"green\",\"blue\"), lwd=3)\n",
    "abline(model1,col='red',lwd=2)"
   ]
  },
  {
   "cell_type": "code",
   "execution_count": 25,
   "metadata": {},
   "outputs": [
    {
     "data": {
      "text/plain": [
       "\n",
       "Call:\n",
       "lm(formula = wt ~ disp + mpg + hp + drat)\n",
       "\n",
       "Residuals:\n",
       "     Min       1Q   Median       3Q      Max \n",
       "-0.55894 -0.24694 -0.05119  0.28431  0.90541 \n",
       "\n",
       "Coefficients:\n",
       "             Estimate Std. Error t value Pr(>|t|)    \n",
       "(Intercept)  4.364821   0.963395   4.531 0.000107 ***\n",
       "disp         0.005085   0.001318   3.857 0.000645 ***\n",
       "mpg         -0.079981   0.024787  -3.227 0.003272 ** \n",
       "hp          -0.003519   0.001914  -1.839 0.076967 .  \n",
       "drat        -0.054984   0.206363  -0.266 0.791922    \n",
       "---\n",
       "Signif. codes:  0 '***' 0.001 '**' 0.01 '*' 0.05 '.' 0.1 ' ' 1\n",
       "\n",
       "Residual standard error: 0.3945 on 27 degrees of freedom\n",
       "Multiple R-squared:  0.8584,\tAdjusted R-squared:  0.8374 \n",
       "F-statistic: 40.92 on 4 and 27 DF,  p-value: 4.359e-11\n"
      ]
     },
     "metadata": {},
     "output_type": "display_data"
    },
    {
     "data": {
      "text/html": [
       "<dl class=dl-horizontal>\n",
       "\t<dt>(Intercept)</dt>\n",
       "\t\t<dd>4.36482144360103</dd>\n",
       "\t<dt>disp</dt>\n",
       "\t\t<dd>0.00508524827728361</dd>\n",
       "\t<dt>mpg</dt>\n",
       "\t\t<dd>-0.0799813690052499</dd>\n",
       "\t<dt>hp</dt>\n",
       "\t\t<dd>-0.00351918783770384</dd>\n",
       "\t<dt>drat</dt>\n",
       "\t\t<dd>-0.054983863998511</dd>\n",
       "</dl>\n"
      ],
      "text/latex": [
       "\\begin{description*}\n",
       "\\item[(Intercept)] 4.36482144360103\n",
       "\\item[disp] 0.00508524827728361\n",
       "\\item[mpg] -0.0799813690052499\n",
       "\\item[hp] -0.00351918783770384\n",
       "\\item[drat] -0.054983863998511\n",
       "\\end{description*}\n"
      ],
      "text/markdown": [
       "(Intercept)\n",
       ":   4.36482144360103disp\n",
       ":   0.00508524827728361mpg\n",
       ":   -0.0799813690052499hp\n",
       ":   -0.00351918783770384drat\n",
       ":   -0.054983863998511\n",
       "\n"
      ],
      "text/plain": [
       " (Intercept)         disp          mpg           hp         drat \n",
       " 4.364821444  0.005085248 -0.079981369 -0.003519188 -0.054983864 "
      ]
     },
     "metadata": {},
     "output_type": "display_data"
    },
    {
     "data": {
      "image/png": "[encoded data removed]",
      "text/plain": [
       "Plot with title \"Linear regression\""
      ]
     },
     "metadata": {},
     "output_type": "display_data"
    }
   ],
   "source": [
    "# Plot data\n",
    "plot(disp,wt,type='p',xlab='Disp',ylab='Wt',main='Linear regression')\n",
    "\n",
    "model4 <- lm(wt ~ disp+mpg+hp+drat)\n",
    "summary(model4)\n",
    "coef(model4)\n",
    "\n",
    "predicted <- fitted(model4)\n",
    "original <- wt\n",
    "mat <- cbind(predicted,original)\n",
    "\n",
    "points(disp,predicted, type=\"p\", col=\"red\")\n",
    "\n",
    "\n",
    "# Add a legend\n",
    "legend(\"topleft\",c(\"Observ.\",\"Predicted\"), col=c(\"black\",\"red\"), lwd=3)"
   ]
  },
  {
   "cell_type": "code",
   "execution_count": null,
   "metadata": {},
   "outputs": [],
   "source": []
  }
 ],
 "metadata": {
  "kernelspec": {
   "display_name": "R",
   "language": "R",
   "name": "ir"
  },
  "language_info": {
   "codemirror_mode": "r",
   "file_extension": ".r",
   "mimetype": "text/x-r-source",
   "name": "R",
   "pygments_lexer": "r",
   "version": "3.4.3"
  }
 },
 "nbformat": 4,
 "nbformat_minor": 2
}
