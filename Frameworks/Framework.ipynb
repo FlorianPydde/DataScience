{
 "cells": [
  {
   "cell_type": "markdown",
   "metadata": {},
   "source": [
    "# Data Science Template "
   ]
  },
  {
   "cell_type": "markdown",
   "metadata": {},
   "source": [
    "## Import Data"
   ]
  },
  {
   "cell_type": "code",
   "execution_count": 117,
   "metadata": {},
   "outputs": [],
   "source": [
    "import pandas as pd\n",
    "import numpy as np\n",
    "import matplotlib.pyplot as plt\n",
    "%matplotlib inline"
   ]
  },
  {
   "cell_type": "code",
   "execution_count": 118,
   "metadata": {},
   "outputs": [],
   "source": [
    "path = 'Mckinsey_Insurance/'\n",
    "file_train = 'train_ZoGVYWq.csv'\n",
    "file_test = 'test_66516Ee.csv'\n",
    "df_train_pre = pd.read_csv(path+file_train)\n",
    "df_test_pre = pd.read_csv(path+file_test)"
   ]
  },
  {
   "cell_type": "markdown",
   "metadata": {},
   "source": [
    "## Preprocessing"
   ]
  },
  {
   "cell_type": "code",
   "execution_count": 119,
   "metadata": {},
   "outputs": [],
   "source": [
    "from sklearn.preprocessing import Imputer\n",
    "from sklearn_pandas import DataFrameMapper, gen_features, CategoricalImputer"
   ]
  },
  {
   "cell_type": "code",
   "execution_count": 120,
   "metadata": {},
   "outputs": [],
   "source": [
    "#selecting columns of different types\n",
    "target = 'renewal'\n",
    "y = df_train_pre[target]\n",
    "col_object = df_train_pre.select_dtypes('O').columns\n",
    "col_num = df_train_pre.drop([target,'id'],axis=1).select_dtypes(['int64','float64']).columns\n",
    "col_dates = df_train_pre.drop('id',axis=1).select_dtypes(['datetime64','timedelta64']).columns"
   ]
  },
  {
   "cell_type": "code",
   "execution_count": 121,
   "metadata": {},
   "outputs": [],
   "source": [
    "def fill_na(df,col_object,col_num,col_dates):\n",
    "    imp_obj = gen_features(\n",
    "            columns=[[x] for x in col_object],\n",
    "            classes=[CategoricalImputer]\n",
    "        )\n",
    "\n",
    "    imp_num = gen_features(            \n",
    "        columns=[[x] for x in col_num],\n",
    "        classes=[{'class': Imputer, 'strategy': 'median'}]\n",
    "    )\n",
    "    \n",
    "    na_mapper = DataFrameMapper(imp_num+imp_obj,df_out=True)\n",
    "    \n",
    "    return na_mapper.fit_transform(df)"
   ]
  },
  {
   "cell_type": "code",
   "execution_count": 122,
   "metadata": {},
   "outputs": [],
   "source": [
    "df_train = fill_na(df_train_pre,col_object,col_num,col_dates)\n",
    "df_test = fill_na(df_test_pre,col_object,col_num,col_dates)"
   ]
  },
  {
   "cell_type": "markdown",
   "metadata": {},
   "source": [
    "## Feature Engineering "
   ]
  },
  {
   "cell_type": "code",
   "execution_count": 123,
   "metadata": {},
   "outputs": [],
   "source": [
    "from sklearn_pandas import DataFrameMapper, gen_features, CategoricalImputer\n",
    "from category_encoders import TargetEncoder"
   ]
  },
  {
   "cell_type": "code",
   "execution_count": 124,
   "metadata": {},
   "outputs": [],
   "source": [
    "target_cat = gen_features(\n",
    "    columns=[[x] for x in col_object],\n",
    "    classes=[TargetEncoder])\n",
    "\n",
    "num_none = gen_features(\n",
    "    columns=[[x] for x in col_num],\n",
    "    classes=[None])\n",
    "\n",
    "feat_mapper = DataFrameMapper(\n",
    "    target_cat+num_none,\n",
    "    df_out=True\n",
    ")"
   ]
  },
  {
   "cell_type": "code",
   "execution_count": 126,
   "metadata": {},
   "outputs": [
    {
     "data": {
      "text/plain": [
       "sourcing_channel                    object\n",
       "residence_area_type                 object\n",
       "perc_premium_paid_by_cash_credit    object\n",
       "age_in_days                         object\n",
       "Income                              object\n",
       "Count_3-6_months_late               object\n",
       "Count_6-12_months_late              object\n",
       "Count_more_than_12_months_late      object\n",
       "application_underwriting_score      object\n",
       "no_of_premiums_paid                 object\n",
       "premium                             object\n",
       "dtype: object"
      ]
     },
     "execution_count": 126,
     "metadata": {},
     "output_type": "execute_result"
    }
   ],
   "source": [
    "feat_mapper.fit_transform(df_train,y).dtypes"
   ]
  },
  {
   "cell_type": "markdown",
   "metadata": {},
   "source": [
    "## Modelling"
   ]
  },
  {
   "cell_type": "code",
   "execution_count": 35,
   "metadata": {},
   "outputs": [],
   "source": [
    "from sklearn.pipeline import Pipeline\n",
    "from sklearn_pandas import cross_val_score as sp_cvs\n",
    "from sklearn.model_selection import StratifiedKFold, cross_val_score\n",
    "from sklearn.metrics import roc_curve, auc\n",
    "from scipy import interp\n",
    "from xgboost import XGBClassifier"
   ]
  },
  {
   "cell_type": "code",
   "execution_count": 36,
   "metadata": {},
   "outputs": [],
   "source": [
    "def report_classification(df,models,cv,weights=[]):\n",
    "    if len(weights)==0:\n",
    "        weights = np.ones(len(models)) / len(models)\n",
    "    i = 0\n",
    "    tprs = []\n",
    "    aucs = []\n",
    "    mean_fpr = np.linspace(0, 1, 100)\n",
    "    thres= []\n",
    "    optimal_thresholds = []\n",
    "    X = df.copy()\n",
    "    for train_index, test_index in cv.split(X, y):\n",
    "        i += 1\n",
    "        print('Fold #',i)\n",
    "        probas = []\n",
    "        X_train, X_test = X.iloc[train_index,:], X.iloc[test_index,:]\n",
    "        y_train, y_test = y[train_index], y[test_index]\n",
    "        for k,m in enumerate(models):\n",
    "            p = m.fit(X_train,y_train).predict_proba(X_test)[:,1] * weights[k]\n",
    "            if len(probas) > 0:\n",
    "                probas += p\n",
    "            else:\n",
    "                probas = p\n",
    "        # Compute ROC curve and area the curve\n",
    "        fpr, tpr, thresholds = roc_curve(y_test, probas)\n",
    "        tprs.append(interp(mean_fpr, fpr, tpr))\n",
    "        tprs[-1][0] = 0.0\n",
    "        roc_auc = auc(fpr, tpr)\n",
    "        aucs.append(roc_auc)\n",
    "        optimal_idx = np.argmax(tpr - fpr)\n",
    "        optimal_thresholds.append(thresholds[optimal_idx])\n",
    "\n",
    "        plt.plot(fpr, tpr, lw=1, alpha=0.3,\n",
    "                 label='ROC fold %d (AUC = %0.2f)' % (i, roc_auc))\n",
    "    plt.plot([0, 1], [0, 1], linestyle='--', lw=2, color='r',label='Luck', alpha=.8)\n",
    "\n",
    "    mean_tpr = np.mean(tprs, axis=0)\n",
    "    mean_tpr[-1] = 1.0\n",
    "    mean_auc = auc(mean_fpr, mean_tpr)\n",
    "    std_auc = np.std(aucs)\n",
    "    mean_optimal_threshold = np.mean(optimal_thresholds,axis=0)\n",
    "    plt.plot(mean_fpr, mean_tpr, color='b',\n",
    "             label=r'Mean ROC (AUC = %0.2f $\\pm$ %0.2f)' % (mean_auc, std_auc),\n",
    "             lw=2, alpha=.8)\n",
    "\n",
    "    std_tpr = np.std(tprs, axis=0)\n",
    "    tprs_upper = np.minimum(mean_tpr + std_tpr, 1)\n",
    "    tprs_lower = np.maximum(mean_tpr - std_tpr, 0)\n",
    "    plt.fill_between(mean_fpr, tprs_lower, tprs_upper, color='grey', alpha=.2,\n",
    "                     label=r'$\\pm$ 1 std. dev.')\n",
    "\n",
    "    plt.xlim([-0.05, 1.05])\n",
    "    plt.ylim([-0.05, 1.05])\n",
    "    plt.xlabel('False Positive Rate')\n",
    "    plt.ylabel('True Positive Rate')\n",
    "    plt.title('Receiver operating characteristic example')\n",
    "    plt.legend(loc=\"lower right\")\n",
    "    plt.show()\n",
    "    return mean_optimal_threshold"
   ]
  },
  {
   "cell_type": "code",
   "execution_count": 37,
   "metadata": {},
   "outputs": [],
   "source": [
    "model = XGBClassifier(verbose=True)\n",
    "pipe = Pipeline([\n",
    "    ('feature_eng',feat_mapper),\n",
    "    ('model',model)\n",
    "])\n",
    "cv_strategy = StratifiedKFold(n_splits=5)"
   ]
  },
  {
   "cell_type": "code",
   "execution_count": 38,
   "metadata": {},
   "outputs": [
    {
     "name": "stdout",
     "output_type": "stream",
     "text": [
      "Fold # 1\n",
      "Fold # 2\n",
      "Fold # 3\n",
      "Fold # 4\n",
      "Fold # 5\n"
     ]
    },
    {
     "data": {
      "image/png": "[encoded data removed]",
      "text/plain": [
       "<matplotlib.figure.Figure at 0x21cc02e9160>"
      ]
     },
     "metadata": {},
     "output_type": "display_data"
    },
    {
     "data": {
      "text/plain": [
       "0.9400613"
      ]
     },
     "execution_count": 38,
     "metadata": {},
     "output_type": "execute_result"
    }
   ],
   "source": [
    "report_classification(df_train,[pipe],cv_strategy)"
   ]
  },
  {
   "cell_type": "markdown",
   "metadata": {},
   "source": [
    "## GridSearch"
   ]
  },
  {
   "cell_type": "code",
   "execution_count": 106,
   "metadata": {},
   "outputs": [],
   "source": [
    "from sklearn.model_selection import GridSearchCV"
   ]
  },
  {
   "cell_type": "code",
   "execution_count": 246,
   "metadata": {},
   "outputs": [],
   "source": [
    "params = {\n",
    "    'model__min_child_weight': [1, 5, 10],\n",
    "    'model__gamma': [0.5, 1, 1.5, 2, 5],\n",
    "    'model__subsample': [0.6, 0.8, 1.0],\n",
    "    'model__colsample_bytree': [0.6, 0.8, 1.0],\n",
    "    'model__max_depth': [3, 4, 5]\n",
    "        }"
   ]
  },
  {
   "cell_type": "code",
   "execution_count": null,
   "metadata": {},
   "outputs": [
    {
     "name": "stdout",
     "output_type": "stream",
     "text": [
      "Fitting 2 folds for each of 405 candidates, totalling 810 fits\n"
     ]
    }
   ],
   "source": [
    "%%time\n",
    "results = cross_val_score(\n",
    "    GridSearchCV(pipe,\n",
    "                 cv=StratifiedKFold(n_splits=2),\n",
    "                 scoring='roc_auc',\n",
    "                 param_grid=params,\n",
    "                 verbose=True\n",
    "                ), \n",
    "    X=df_train.copy(),\n",
    "    y=y,                 \n",
    "    scoring='roc_auc',\n",
    "    verbose=True\n",
    ")"
   ]
  },
  {
   "cell_type": "markdown",
   "metadata": {},
   "source": [
    "## Submission"
   ]
  },
  {
   "cell_type": "code",
   "execution_count": 245,
   "metadata": {},
   "outputs": [
    {
     "data": {
      "text/plain": [
       "dict_keys(['memory', 'steps', 'feature_eng', 'model', 'feature_eng__default', 'feature_eng__df_out', 'feature_eng__features', 'feature_eng__input_df', 'feature_eng__sparse', 'model__base_score', 'model__booster', 'model__colsample_bylevel', 'model__colsample_bytree', 'model__gamma', 'model__learning_rate', 'model__max_delta_step', 'model__max_depth', 'model__min_child_weight', 'model__missing', 'model__n_estimators', 'model__n_jobs', 'model__nthread', 'model__objective', 'model__random_state', 'model__reg_alpha', 'model__reg_lambda', 'model__scale_pos_weight', 'model__seed', 'model__silent', 'model__subsample', 'model__verbose'])"
      ]
     },
     "execution_count": 245,
     "metadata": {},
     "output_type": "execute_result"
    }
   ],
   "source": [
    "pipe.get_params().keys()"
   ]
  }
 ],
 "metadata": {
  "kernelspec": {
   "display_name": "Python 3",
   "language": "python",
   "name": "python3"
  },
  "language_info": {
   "codemirror_mode": {
    "name": "ipython",
    "version": 3
   },
   "file_extension": ".py",
   "mimetype": "text/x-python",
   "name": "python",
   "nbconvert_exporter": "python",
   "pygments_lexer": "ipython3",
   "version": "3.6.4"
  }
 },
 "nbformat": 4,
 "nbformat_minor": 2
}
