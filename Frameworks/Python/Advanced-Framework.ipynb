{
 "cells": [
  {
   "cell_type": "markdown",
   "metadata": {},
   "source": [
    "# Data Science Template "
   ]
  },
  {
   "cell_type": "markdown",
   "metadata": {},
   "source": [
    "## Import Data"
   ]
  },
  {
   "cell_type": "code",
   "execution_count": 1,
   "metadata": {},
   "outputs": [],
   "source": [
    "import pandas as pd\n",
    "import numpy as np\n",
    "import matplotlib.pyplot as plt\n",
    "%matplotlib inline"
   ]
  },
  {
   "cell_type": "code",
   "execution_count": 3,
   "metadata": {},
   "outputs": [],
   "source": [
    "path = './'\n",
    "file_train = 'train_ZoGVYWq.csv'\n",
    "file_test = 'test_66516Ee.csv'\n",
    "df_train_pre = pd.read_csv(path+file_train)\n",
    "df_test_pre = pd.read_csv(path+file_test)"
   ]
  },
  {
   "cell_type": "markdown",
   "metadata": {},
   "source": [
    "## Analysing NaN's"
   ]
  },
  {
   "cell_type": "code",
   "execution_count": 174,
   "metadata": {},
   "outputs": [
    {
     "data": {
      "text/plain": [
       "id                                  0.000000\n",
       "perc_premium_paid_by_cash_credit    0.000000\n",
       "age_in_days                         0.000000\n",
       "Income                              0.000000\n",
       "Count_3-6_months_late               0.121473\n",
       "Count_6-12_months_late              0.121473\n",
       "Count_more_than_12_months_late      0.121473\n",
       "application_underwriting_score      3.724343\n",
       "no_of_premiums_paid                 0.000000\n",
       "sourcing_channel                    0.000000\n",
       "residence_area_type                 0.000000\n",
       "premium                             0.000000\n",
       "renewal                             0.000000\n",
       "dtype: float64"
      ]
     },
     "execution_count": 174,
     "metadata": {},
     "output_type": "execute_result"
    }
   ],
   "source": [
    "df_train_pre.isnull().sum(axis=0) / df_train_pre.shape[0] * 100"
   ]
  },
  {
   "cell_type": "markdown",
   "metadata": {},
   "source": [
    "## Preprocessing"
   ]
  },
  {
   "cell_type": "code",
   "execution_count": 8,
   "metadata": {},
   "outputs": [],
   "source": [
    "from sklearn.preprocessing import Imputer\n",
    "from sklearn_pandas import DataFrameMapper, gen_features, CategoricalImputer"
   ]
  },
  {
   "cell_type": "code",
   "execution_count": 5,
   "metadata": {},
   "outputs": [],
   "source": [
    "#selecting columns of different types\n",
    "target = 'renewal'\n",
    "y = df_train_pre[target]\n",
    "col_object = df_train_pre.select_dtypes('O')\n",
    "col_num = df_train_pre.drop(target,axis=1).select_dtypes(['int64','float64'])\n",
    "col_dates = df_train_pre.select_dtypes(['datetime64','timedelta64'])"
   ]
  },
  {
   "cell_type": "code",
   "execution_count": null,
   "metadata": {},
   "outputs": [],
   "source": []
  },
  {
   "cell_type": "code",
   "execution_count": 132,
   "metadata": {},
   "outputs": [],
   "source": [
    "def fill_na(df,col_object,col_num,col_dates):\n",
    "    imp_obj = gen_features(\n",
    "            columns=[[x] for x in col_object],\n",
    "            classes=[CategoricalImputer()]\n",
    "        )\n",
    "\n",
    "    imp_num = gen_features(            \n",
    "        columns=[[x] for x in col_num],\n",
    "        classes=[{'class': Imputer, 'strategy': 'median'}]\n",
    "    )\n",
    "    \n",
    "    na_mapper = DataFrameMapper(imp_obj+imp_num,df_out=True)\n",
    "    \n",
    "    return na_mapper, na_mapper.fit_transform(df)"
   ]
  },
  {
   "cell_type": "code",
   "execution_count": 133,
   "metadata": {},
   "outputs": [],
   "source": [
    "na_mapper,df_train = fill_na(df_train_pre,col_object,col_num,col_dates)\n",
    "_ , df_test = fill_na(df_test_pre,col_object,col_num,col_dates)"
   ]
  },
  {
   "cell_type": "markdown",
   "metadata": {},
   "source": [
    "## Check covariance shift"
   ]
  },
  {
   "cell_type": "code",
   "execution_count": 58,
   "metadata": {},
   "outputs": [],
   "source": [
    "from sklearn.linear_model import LogisticRegression, LogisticRegressionCV\n",
    "from sklearn.ensemble import RandomForestClassifier\n",
    "from sklearn.preprocessing import LabelEncoder, MinMaxScaler\n",
    "from sklearn.model_selection import train_test_split, cross_val_score\n",
    "from sklearn.metrics import roc_auc_score"
   ]
  },
  {
   "cell_type": "code",
   "execution_count": 92,
   "metadata": {},
   "outputs": [],
   "source": [
    "df_all = df_train.drop('id',axis=1).copy()\n",
    "df_all['DatasetID'] = 0\n",
    "df_all = pd.concat(\n",
    "    [df_all,df_test.drop('id',axis=1)]\n",
    "    ,axis=0\n",
    "    ,sort=True\n",
    ")\n",
    "df_all.fillna(1,inplace=True)\n",
    "df_all.reset_index(drop=True,inplace=True)"
   ]
  },
  {
   "cell_type": "code",
   "execution_count": 95,
   "metadata": {},
   "outputs": [],
   "source": [
    "Xtrain,Xtest,ytrain,ytest = train_test_split(df_all.drop('DatasetID',axis=1),df_all['DatasetID'],test_size=0.3,shuffle=True)\n",
    "dct_res = {'col': [], 'roc_auc_cv': [], 'roc_auc_test': []}\n",
    "m = RandomForestClassifier(n_estimators = 50, max_depth = 5,min_samples_leaf = 5,random_state=2018)\n",
    "for c in Xtrain.columns:\n",
    "    le = LabelEncoder()\n",
    "    lm = MinMaxScaler()\n",
    "    dtrain = Xtrain[c].values.reshape(-1,1)\n",
    "    dtest = Xtest[c].values.reshape(-1,1)\n",
    "    if Xtrain[c].dtype=='object':\n",
    "        dtrain = le.fit_transform(dtrain.ravel()).reshape(-1,1)\n",
    "        dtest = le.transform(dtest.ravel()).reshape(-1,1)\n",
    "#     dtrain = lm.fit_transform(dtrain).reshape(-1,1)\n",
    "#     dtest = lm.transform(dtest).reshape(-1,1)\n",
    "    dct_res['col'].append(c)\n",
    "    dct_res['roc_auc_cv'].append(np.mean(cross_val_score(m,dtrain,ytrain,cv=5,scoring='roc_auc')))\n",
    "    m.fit(dtrain,ytrain)\n",
    "    dct_res['roc_auc_test'].append(roc_auc_score(ytest,m.predict_proba(dtest)[:,0]))\n",
    "coshift = pd.DataFrame.from_dict(dct_res)"
   ]
  },
  {
   "cell_type": "code",
   "execution_count": 96,
   "metadata": {},
   "outputs": [
    {
     "data": {
      "text/html": [
       "<div>\n",
       "<style scoped>\n",
       "    .dataframe tbody tr th:only-of-type {\n",
       "        vertical-align: middle;\n",
       "    }\n",
       "\n",
       "    .dataframe tbody tr th {\n",
       "        vertical-align: top;\n",
       "    }\n",
       "\n",
       "    .dataframe thead th {\n",
       "        text-align: right;\n",
       "    }\n",
       "</style>\n",
       "<table border=\"1\" class=\"dataframe\">\n",
       "  <thead>\n",
       "    <tr style=\"text-align: right;\">\n",
       "      <th></th>\n",
       "      <th>col</th>\n",
       "      <th>roc_auc_cv</th>\n",
       "      <th>roc_auc_test</th>\n",
       "    </tr>\n",
       "  </thead>\n",
       "  <tbody>\n",
       "    <tr>\n",
       "      <th>0</th>\n",
       "      <td>Count_3-6_months_late</td>\n",
       "      <td>0.501038</td>\n",
       "      <td>0.502038</td>\n",
       "    </tr>\n",
       "    <tr>\n",
       "      <th>1</th>\n",
       "      <td>Count_6-12_months_late</td>\n",
       "      <td>0.500272</td>\n",
       "      <td>0.500250</td>\n",
       "    </tr>\n",
       "    <tr>\n",
       "      <th>2</th>\n",
       "      <td>Count_more_than_12_months_late</td>\n",
       "      <td>0.500189</td>\n",
       "      <td>0.499915</td>\n",
       "    </tr>\n",
       "    <tr>\n",
       "      <th>3</th>\n",
       "      <td>Income</td>\n",
       "      <td>0.501296</td>\n",
       "      <td>0.502013</td>\n",
       "    </tr>\n",
       "    <tr>\n",
       "      <th>4</th>\n",
       "      <td>age_in_days</td>\n",
       "      <td>0.501813</td>\n",
       "      <td>0.496966</td>\n",
       "    </tr>\n",
       "    <tr>\n",
       "      <th>5</th>\n",
       "      <td>application_underwriting_score</td>\n",
       "      <td>0.500435</td>\n",
       "      <td>0.501161</td>\n",
       "    </tr>\n",
       "    <tr>\n",
       "      <th>6</th>\n",
       "      <td>no_of_premiums_paid</td>\n",
       "      <td>0.501815</td>\n",
       "      <td>0.506280</td>\n",
       "    </tr>\n",
       "    <tr>\n",
       "      <th>7</th>\n",
       "      <td>perc_premium_paid_by_cash_credit</td>\n",
       "      <td>0.501578</td>\n",
       "      <td>0.502998</td>\n",
       "    </tr>\n",
       "    <tr>\n",
       "      <th>8</th>\n",
       "      <td>premium</td>\n",
       "      <td>0.497739</td>\n",
       "      <td>0.504496</td>\n",
       "    </tr>\n",
       "    <tr>\n",
       "      <th>9</th>\n",
       "      <td>residence_area_type</td>\n",
       "      <td>0.501082</td>\n",
       "      <td>0.500447</td>\n",
       "    </tr>\n",
       "    <tr>\n",
       "      <th>10</th>\n",
       "      <td>sourcing_channel</td>\n",
       "      <td>0.497895</td>\n",
       "      <td>0.499940</td>\n",
       "    </tr>\n",
       "  </tbody>\n",
       "</table>\n",
       "</div>"
      ],
      "text/plain": [
       "                                 col  roc_auc_cv  roc_auc_test\n",
       "0              Count_3-6_months_late    0.501038      0.502038\n",
       "1             Count_6-12_months_late    0.500272      0.500250\n",
       "2     Count_more_than_12_months_late    0.500189      0.499915\n",
       "3                             Income    0.501296      0.502013\n",
       "4                        age_in_days    0.501813      0.496966\n",
       "5     application_underwriting_score    0.500435      0.501161\n",
       "6                no_of_premiums_paid    0.501815      0.506280\n",
       "7   perc_premium_paid_by_cash_credit    0.501578      0.502998\n",
       "8                            premium    0.497739      0.504496\n",
       "9                residence_area_type    0.501082      0.500447\n",
       "10                  sourcing_channel    0.497895      0.499940"
      ]
     },
     "execution_count": 96,
     "metadata": {},
     "output_type": "execute_result"
    }
   ],
   "source": [
    "coshift"
   ]
  },
  {
   "cell_type": "markdown",
   "metadata": {},
   "source": [
    "## Feature Engineering "
   ]
  },
  {
   "cell_type": "code",
   "execution_count": 148,
   "metadata": {},
   "outputs": [],
   "source": [
    "from category_encoders import TargetEncoder, OneHotEncoder"
   ]
  },
  {
   "cell_type": "code",
   "execution_count": 161,
   "metadata": {},
   "outputs": [],
   "source": [
    "target_cat = gen_features(\n",
    "    columns=[[x] for x in col_object],\n",
    "    classes=[OneHotEncoder])\n",
    "\n",
    "num_none = gen_features(\n",
    "    columns=[[x] for x in col_num],\n",
    "    classes=[None])\n",
    "\n",
    "feat_mapper = DataFrameMapper(\n",
    "    target_cat+num_none,\n",
    "    df_out=False\n",
    ")"
   ]
  },
  {
   "cell_type": "markdown",
   "metadata": {},
   "source": [
    "## Modelling"
   ]
  },
  {
   "cell_type": "code",
   "execution_count": 105,
   "metadata": {},
   "outputs": [],
   "source": [
    "from sklearn.pipeline import Pipeline\n",
    "from sklearn_pandas import cross_val_score as sp_cvs\n",
    "from sklearn.model_selection import StratifiedKFold, cross_val_score\n",
    "from sklearn.metrics import roc_curve, auc\n",
    "from scipy import interp\n",
    "from xgboost import XGBClassifier"
   ]
  },
  {
   "cell_type": "code",
   "execution_count": 142,
   "metadata": {},
   "outputs": [],
   "source": [
    "def report_classification(df,models,cv,cv_nested,weights=[]):\n",
    "    if len(weights)==0:\n",
    "        weights = np.ones(len(models)) / len(models)\n",
    "    i = 0\n",
    "    n=0\n",
    "    tprs = []\n",
    "    aucs = []\n",
    "    mean_fpr = np.linspace(0, 1, 100)\n",
    "    thres= []\n",
    "    optimal_thresholds = []\n",
    "    X = df.copy()\n",
    "    for train_index, test_index in cv.split(X, y):\n",
    "        i += 1\n",
    "        n=0\n",
    "        for train_index, test_index in cv_nested.split(X.iloc[train_index,:], y[train_index]):\n",
    "            n +=1\n",
    "            print('Fold:',i,'/',n)\n",
    "            probas = []\n",
    "            X_train, X_test = X.iloc[train_index,:], X.iloc[test_index,:]\n",
    "            y_train, y_test = y[train_index], y[test_index]\n",
    "            for k,m in enumerate(models):\n",
    "                p = m.fit(X_train,y_train).predict_proba(X_test)[:,1] * weights[k]\n",
    "                if len(probas) > 0:\n",
    "                    probas += p\n",
    "                else:\n",
    "                    probas = p\n",
    "            # Compute ROC curve and area the curve\n",
    "            fpr, tpr, thresholds = roc_curve(y_test, probas)\n",
    "            tprs.append(interp(mean_fpr, fpr, tpr))\n",
    "            tprs[-1][0] = 0.0\n",
    "            roc_auc = auc(fpr, tpr)\n",
    "            aucs.append(roc_auc)\n",
    "            optimal_idx = np.argmax(tpr - fpr)\n",
    "            optimal_thresholds.append(thresholds[optimal_idx])\n",
    "\n",
    "            plt.plot(fpr, tpr, lw=1, alpha=0.3,)\n",
    "                     #label='ROC fold %d/%d (AUC = %0.2f)' % (i,n, roc_auc))\n",
    "        \n",
    "    plt.plot([0, 1], [0, 1], linestyle='--', lw=2, color='r',label='Luck', alpha=.8)\n",
    "\n",
    "    mean_tpr = np.mean(tprs, axis=0)\n",
    "    mean_tpr[-1] = 1.0\n",
    "    mean_auc = auc(mean_fpr, mean_tpr)\n",
    "    std_auc = np.std(aucs)\n",
    "    mean_optimal_threshold = np.mean(optimal_thresholds,axis=0)\n",
    "    plt.plot(mean_fpr, mean_tpr, color='b',\n",
    "             label=r'Mean ROC (AUC = %0.2f $\\pm$ %0.2f)' % (mean_auc, std_auc),\n",
    "             lw=2, alpha=.8)\n",
    "\n",
    "    std_tpr = np.std(tprs, axis=0)\n",
    "    tprs_upper = np.minimum(mean_tpr + std_tpr, 1)\n",
    "    tprs_lower = np.maximum(mean_tpr - std_tpr, 0)\n",
    "    plt.fill_between(mean_fpr, tprs_lower, tprs_upper, color='grey', alpha=.2,\n",
    "                     label=r'$\\pm$ 1 std. dev.')\n",
    "\n",
    "    plt.xlim([-0.05, 1.05])\n",
    "    plt.ylim([-0.05, 1.05])\n",
    "    plt.xlabel('False Positive Rate')\n",
    "    plt.ylabel('True Positive Rate')\n",
    "    plt.title('Receiver operating characteristic example')\n",
    "    plt.legend(loc=\"lower right\")\n",
    "    plt.show()\n",
    "    return mean_optimal_threshold"
   ]
  },
  {
   "cell_type": "code",
   "execution_count": 143,
   "metadata": {},
   "outputs": [],
   "source": [
    "model = XGBClassifier(verbose=True)\n",
    "pipe = Pipeline([\n",
    "    ('prepro',na_mapper),\n",
    "    ('feature_eng',feat_mapper),\n",
    "    ('model',model)\n",
    "])\n",
    "cv_strategy = StratifiedKFold(n_splits=5)"
   ]
  },
  {
   "cell_type": "code",
   "execution_count": 144,
   "metadata": {
    "collapsed": true
   },
   "outputs": [
    {
     "name": "stdout",
     "output_type": "stream",
     "text": [
      "Fold: 1 / 1\n",
      "Fold: 1 / 2\n",
      "Fold: 1 / 3\n",
      "Fold: 1 / 4\n",
      "Fold: 1 / 5\n",
      "Fold: 2 / 1\n",
      "Fold: 2 / 2\n",
      "Fold: 2 / 3\n",
      "Fold: 2 / 4\n",
      "Fold: 2 / 5\n",
      "Fold: 3 / 1\n",
      "Fold: 3 / 2\n",
      "Fold: 3 / 3\n",
      "Fold: 3 / 4\n",
      "Fold: 3 / 5\n",
      "Fold: 4 / 1\n",
      "Fold: 4 / 2\n",
      "Fold: 4 / 3\n",
      "Fold: 4 / 4\n",
      "Fold: 4 / 5\n",
      "Fold: 5 / 1\n",
      "Fold: 5 / 2\n",
      "Fold: 5 / 3\n",
      "Fold: 5 / 4\n",
      "Fold: 5 / 5\n"
     ]
    },
    {
     "data": {
      "image/png": "[encoded data removed]",
      "text/plain": [
       "<matplotlib.figure.Figure at 0x14f35f227b8>"
      ]
     },
     "metadata": {},
     "output_type": "display_data"
    },
    {
     "data": {
      "text/plain": [
       "0.9364719"
      ]
     },
     "execution_count": 144,
     "metadata": {},
     "output_type": "execute_result"
    }
   ],
   "source": [
    "report_classification(df_train_pre,[pipe],cv_strategy,cv_strategy)"
   ]
  },
  {
   "cell_type": "markdown",
   "metadata": {},
   "source": [
    "## Nested Cross Validation Modeling Trick"
   ]
  },
  {
   "cell_type": "code",
   "execution_count": 110,
   "metadata": {},
   "outputs": [],
   "source": [
    "from sklearn.model_selection import GridSearchCV"
   ]
  },
  {
   "cell_type": "code",
   "execution_count": 159,
   "metadata": {},
   "outputs": [
    {
     "name": "stdout",
     "output_type": "stream",
     "text": [
      "Fitting 3 folds for each of 1 candidates, totalling 3 fits\n"
     ]
    },
    {
     "name": "stderr",
     "output_type": "stream",
     "text": [
      "[Parallel(n_jobs=1)]: Done   3 out of   3 | elapsed:    2.6s finished\n"
     ]
    },
    {
     "name": "stdout",
     "output_type": "stream",
     "text": [
      "Fitting 3 folds for each of 1 candidates, totalling 3 fits\n"
     ]
    },
    {
     "name": "stderr",
     "output_type": "stream",
     "text": [
      "[Parallel(n_jobs=1)]: Done   3 out of   3 | elapsed:    2.6s finished\n"
     ]
    },
    {
     "name": "stdout",
     "output_type": "stream",
     "text": [
      "Fitting 3 folds for each of 1 candidates, totalling 3 fits\n"
     ]
    },
    {
     "name": "stderr",
     "output_type": "stream",
     "text": [
      "[Parallel(n_jobs=1)]: Done   3 out of   3 | elapsed:    2.6s finished\n"
     ]
    },
    {
     "name": "stdout",
     "output_type": "stream",
     "text": [
      "Fitting 3 folds for each of 1 candidates, totalling 3 fits\n"
     ]
    },
    {
     "name": "stderr",
     "output_type": "stream",
     "text": [
      "[Parallel(n_jobs=1)]: Done   3 out of   3 | elapsed:    2.6s finished\n"
     ]
    },
    {
     "name": "stdout",
     "output_type": "stream",
     "text": [
      "Fitting 3 folds for each of 1 candidates, totalling 3 fits\n"
     ]
    },
    {
     "name": "stderr",
     "output_type": "stream",
     "text": [
      "[Parallel(n_jobs=1)]: Done   3 out of   3 | elapsed:    2.6s finished\n",
      "[Parallel(n_jobs=1)]: Done   5 out of   5 | elapsed:   19.5s finished\n"
     ]
    }
   ],
   "source": [
    "model = XGBClassifier(verbose=True,random_state=2018)\n",
    "frozen_param = {}\n",
    "for k in model.get_params().keys():\n",
    "    frozen_param['model__'+k] = [model.get_params()[k]]\n",
    "pipe = Pipeline([\n",
    "    ('prepro',na_mapper),\n",
    "    ('feature_eng',feat_mapper),\n",
    "    ('model',model)\n",
    "])\n",
    "cv_strategy = StratifiedKFold(n_splits=5)\n",
    "nd_cv_res = cross_val_score(GridSearchCV(pipe,cv=3,scoring='roc_auc',verbose=True,param_grid=frozen_param)\n",
    "                            ,scoring='roc_auc',cv=cv_strategy,X=df_train_pre,y=y,verbose=True)"
   ]
  },
  {
   "cell_type": "code",
   "execution_count": 160,
   "metadata": {},
   "outputs": [
    {
     "data": {
      "text/plain": [
       "array([0.57847342, 0.58551723, 0.57583795, 0.59491376, 0.5677934 ])"
      ]
     },
     "execution_count": 160,
     "metadata": {},
     "output_type": "execute_result"
    }
   ],
   "source": [
    "nd_cv_res"
   ]
  },
  {
   "cell_type": "markdown",
   "metadata": {},
   "source": [
    "## Nested GridSearch"
   ]
  },
  {
   "cell_type": "code",
   "execution_count": 106,
   "metadata": {},
   "outputs": [],
   "source": [
    "from sklearn.model_selection import GridSearchCV"
   ]
  },
  {
   "cell_type": "code",
   "execution_count": 246,
   "metadata": {},
   "outputs": [],
   "source": [
    "params = {\n",
    "    'model__min_child_weight': [1, 5, 10],\n",
    "    'model__gamma': [0.5, 1, 1.5, 2, 5],\n",
    "    'model__subsample': [0.6, 0.8, 1.0],\n",
    "    'model__colsample_bytree': [0.6, 0.8, 1.0],\n",
    "    'model__max_depth': [3, 4, 5]\n",
    "        }"
   ]
  },
  {
   "cell_type": "code",
   "execution_count": null,
   "metadata": {},
   "outputs": [
    {
     "name": "stdout",
     "output_type": "stream",
     "text": [
      "Fitting 2 folds for each of 405 candidates, totalling 810 fits\n"
     ]
    }
   ],
   "source": [
    "%%time\n",
    "results = cross_val_score(\n",
    "    GridSearchCV(pipe,\n",
    "                 cv=StratifiedKFold(n_splits=2),\n",
    "                 scoring='roc_auc',\n",
    "                 param_grid=params,\n",
    "                 verbose=True\n",
    "                ), \n",
    "    X=df_train.copy(),\n",
    "    y=y,                 \n",
    "    scoring='roc_auc',\n",
    "    verbose=True\n",
    ")"
   ]
  },
  {
   "cell_type": "markdown",
   "metadata": {},
   "source": [
    "## Submission"
   ]
  }
 ],
 "metadata": {
  "kernelspec": {
   "display_name": "Python 3",
   "language": "python",
   "name": "python3"
  },
  "language_info": {
   "codemirror_mode": {
    "name": "ipython",
    "version": 3
   },
   "file_extension": ".py",
   "mimetype": "text/x-python",
   "name": "python",
   "nbconvert_exporter": "python",
   "pygments_lexer": "ipython3",
   "version": "3.6.4"
  }
 },
 "nbformat": 4,
 "nbformat_minor": 2
}
